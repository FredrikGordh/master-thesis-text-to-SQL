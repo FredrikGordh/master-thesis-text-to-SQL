{
 "cells": [
  {
   "cell_type": "markdown",
   "metadata": {},
   "source": [
    "### CSV test"
   ]
  },
  {
   "cell_type": "code",
   "execution_count": 2,
   "metadata": {},
   "outputs": [
    {
     "data": {
      "text/html": [
       "<div>\n",
       "<style scoped>\n",
       "    .dataframe tbody tr th:only-of-type {\n",
       "        vertical-align: middle;\n",
       "    }\n",
       "\n",
       "    .dataframe tbody tr th {\n",
       "        vertical-align: top;\n",
       "    }\n",
       "\n",
       "    .dataframe thead th {\n",
       "        text-align: right;\n",
       "    }\n",
       "</style>\n",
       "<table border=\"1\" class=\"dataframe\">\n",
       "  <thead>\n",
       "    <tr style=\"text-align: right;\">\n",
       "      <th></th>\n",
       "      <th>Unnamed: 0</th>\n",
       "      <th>question</th>\n",
       "      <th>gold_query</th>\n",
       "      <th>db_id</th>\n",
       "      <th>final_query</th>\n",
       "      <th>schema_linking</th>\n",
       "      <th>classification</th>\n",
       "      <th>sql_generation</th>\n",
       "      <th>self_correction</th>\n",
       "    </tr>\n",
       "  </thead>\n",
       "  <tbody>\n",
       "    <tr>\n",
       "      <th>0</th>\n",
       "      <td>0</td>\n",
       "      <td>What is the highest eligible free rate for K-1...</td>\n",
       "      <td>SELECT `FRPM Count (K-12)` / `Enrollment (K-12...</td>\n",
       "      <td>california_schools</td>\n",
       "      <td>SELECT frpm.\"FRPM Count (K-12)\" / frpm.\"Enroll...</td>\n",
       "      <td>\"highest eligible free rate\" so we need column...</td>\n",
       "      <td>The SQL query for the given question needs the...</td>\n",
       "      <td>For creating the SQL for the given question, w...</td>\n",
       "      <td>1) The column `MAX(frpm.\"FRPM Count (K-12)\") /...</td>\n",
       "    </tr>\n",
       "    <tr>\n",
       "      <th>1</th>\n",
       "      <td>1</td>\n",
       "      <td>Please list the lowest three eligible free rat...</td>\n",
       "      <td>SELECT `Free Meal Count (Ages 5-17)` / `Enroll...</td>\n",
       "      <td>california_schools</td>\n",
       "      <td>SELECT frpm.\"Free Meal Count (Ages 5-17)\" / fr...</td>\n",
       "      <td>\"lowest three eligible free rates\" so we need ...</td>\n",
       "      <td>The SQL query for the given question needs the...</td>\n",
       "      <td>For creating the SQL for the given question, w...</td>\n",
       "      <td>1) The column \"School Name\" is not mentioned i...</td>\n",
       "    </tr>\n",
       "  </tbody>\n",
       "</table>\n",
       "</div>"
      ],
      "text/plain": [
       "   Unnamed: 0                                           question  \\\n",
       "0           0  What is the highest eligible free rate for K-1...   \n",
       "1           1  Please list the lowest three eligible free rat...   \n",
       "\n",
       "                                          gold_query               db_id  \\\n",
       "0  SELECT `FRPM Count (K-12)` / `Enrollment (K-12...  california_schools   \n",
       "1  SELECT `Free Meal Count (Ages 5-17)` / `Enroll...  california_schools   \n",
       "\n",
       "                                         final_query  \\\n",
       "0  SELECT frpm.\"FRPM Count (K-12)\" / frpm.\"Enroll...   \n",
       "1  SELECT frpm.\"Free Meal Count (Ages 5-17)\" / fr...   \n",
       "\n",
       "                                      schema_linking  \\\n",
       "0  \"highest eligible free rate\" so we need column...   \n",
       "1  \"lowest three eligible free rates\" so we need ...   \n",
       "\n",
       "                                      classification  \\\n",
       "0  The SQL query for the given question needs the...   \n",
       "1  The SQL query for the given question needs the...   \n",
       "\n",
       "                                      sql_generation  \\\n",
       "0  For creating the SQL for the given question, w...   \n",
       "1  For creating the SQL for the given question, w...   \n",
       "\n",
       "                                     self_correction  \n",
       "0  1) The column `MAX(frpm.\"FRPM Count (K-12)\") /...  \n",
       "1  1) The column \"School Name\" is not mentioned i...  "
      ]
     },
     "execution_count": 2,
     "metadata": {},
     "output_type": "execute_result"
    }
   ],
   "source": [
    "import pandas as pd\n",
    "bird_results = pd.read_csv('logs_merged.csv')\n",
    "bird_results.head(2)\n"
   ]
  },
  {
   "cell_type": "markdown",
   "metadata": {},
   "source": [
    "### Plots"
   ]
  },
  {
   "cell_type": "code",
   "execution_count": 7,
   "metadata": {},
   "outputs": [],
   "source": [
    "data ={\n",
    "    'Name': ['Zero-Shot (GPT-3.5)','Few-Shot (GPT-3.5)','DIN-SQL (GPT-3.5)',\"Zero-Shot (GPT-4)\"],\n",
    "    'Iteration 1': [37.14, 36.19, 40.57, 38.09],\n",
    "    'Iteration 2': [45.28, 50, 50.94, 55.66]\n",
    "}\n",
    "df = pd.DataFrame(data)\n"
   ]
  },
  {
   "cell_type": "code",
   "execution_count": 13,
   "metadata": {},
   "outputs": [
    {
     "data": {
      "image/png": "[encoded data removed]",
      "text/plain": [
       "<Figure size 640x480 with 1 Axes>"
      ]
     },
     "metadata": {},
     "output_type": "display_data"
    }
   ],
   "source": [
    "import matplotlib.pyplot as plt\n",
    "import numpy as np\n",
    "\n",
    "# Set the width of the bars\n",
    "barWidth = 0.35\n",
    "\n",
    "\n",
    "# Set position of bar on X axis\n",
    "r1 = np.arange(len(df['Iteration 1']))\n",
    "r2 = [x + barWidth for x in r1]\n",
    "\n",
    "# Make the plot\n",
    "plt.bar(r1, df['Iteration 1'], color='b', width=barWidth, edgecolor='grey', label='Iteration 1')\n",
    "plt.bar(r2, df['Iteration 2'], color='orange', width=barWidth, edgecolor='grey', label='Iteration 2')\n",
    "\n",
    "# Add xticks on the middle of the group bars\n",
    "plt.xlabel('Model')\n",
    "plt.xticks([r + barWidth/2 for r in range(len(df['Iteration 1']))], df['Name'], fontsize='small')\n",
    "\n",
    "#y-axis\n",
    "plt.ylabel('Percent')\n",
    "# Create legend & Show graphic\n",
    "plt.legend()\n",
    "plt.title('Execution Accuracy')\n",
    "plt.show()\n"
   ]
  },
  {
   "cell_type": "code",
   "execution_count": null,
   "metadata": {},
   "outputs": [],
   "source": []
  }
 ],
 "metadata": {
  "kernelspec": {
   "display_name": "venv",
   "language": "python",
   "name": "python3"
  },
  "language_info": {
   "codemirror_mode": {
    "name": "ipython",
    "version": 3
   },
   "file_extension": ".py",
   "mimetype": "text/x-python",
   "name": "python",
   "nbconvert_exporter": "python",
   "pygments_lexer": "ipython3",
   "version": "3.11.5"
  }
 },
 "nbformat": 4,
 "nbformat_minor": 2
}
